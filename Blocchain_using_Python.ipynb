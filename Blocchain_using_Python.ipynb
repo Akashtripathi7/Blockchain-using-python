{
  "nbformat": 4,
  "nbformat_minor": 0,
  "metadata": {
    "colab": {
      "name": "Blocchain using Python",
      "provenance": []
    },
    "kernelspec": {
      "name": "python3",
      "display_name": "Python 3"
    },
    "language_info": {
      "name": "python"
    }
  },
  "cells": [
    {
      "cell_type": "code",
      "metadata": {
        "id": "MzdtFl1ge3lR"
      },
      "source": [
        "'''A block is a datastructure that conatains some data or attributes,\n",
        "basically multiple blocks link together to form a  chain of\n",
        " blocks which is called blockchain\n",
        "Any kind of data can be stored in blockhain.'''\n",
        "#Example\n",
        "'''\n",
        "AkashCoin (AC)\n",
        "t1: Akash sends NIkhil 2 AC\n",
        "t2: NIkhil sends Pravin 4.3 AC\n",
        "t3: Reethik sends Vinayak 3.2 AC\n",
        "\n",
        "Block1(\"RandomString\", t1, t2, t3) ---> 76fd89, Block2 (\"76fd89\", t4, t5, t6)  --> 8923ff, Block3 (8923ff, t7)\n",
        "\n",
        "AcashHash()\n",
        "'''\n",
        "\n",
        "#Hash changes drastically even if there is a slight change in the transactions"
      ],
      "execution_count": null,
      "outputs": []
    },
    {
      "cell_type": "code",
      "metadata": {
        "colab": {
          "base_uri": "https://localhost:8080/"
        },
        "id": "tuW12_lGe6NG",
        "outputId": "f6865ea9-cd93-452b-cf63-13b66a627763"
      },
      "source": [
        "import hashlib\n",
        "\n",
        "class AkashCoinBlock:\n",
        "  def  __init__(self, previous_block_hash, transaction_list):\n",
        "    self.previous_block_hash = previous_block_hash\n",
        "    self.transaction_list = transaction_list\n",
        "\n",
        " #constructing a data string where we are concatenating the different strings also we are using a separator\n",
        "    self.block_data = \" - \".join(transaction_list) + \" - \" + previous_block_hash\n",
        "    #sha-256 is cryptographic has algorith\n",
        "    self.block_hash = hashlib.sha256(self.block_data.encode()).hexdigest() #This is the way we calculate hash\n",
        "\n",
        "#some transactions\n",
        "t1 = \"Akash sends 2 AC to Nikhil\"\n",
        "t2 = \"Pravin sends 4.1 AC to  Nikhil\"\n",
        "t3 = \"Nikhil sends 3.2 AC to Pravin\"\n",
        "t4 = \"Reethik sends 0.3 AC to Akash\"\n",
        "t5 = \"Nikhil sends 1 AC to Vinayak\"\n",
        "t6 = \"Nikhil sends 5.4 AC to Reethik\"\n",
        "\n",
        "initial_block = AkashCoinBlock(\"Initial String\", [t1, t2])\n",
        "\n",
        "print(initial_block.block_data)\n",
        "print(initial_block.block_hash)\n",
        "\n",
        "second_block = AkashCoinBlock(initial_block.block_hash, [t3, t4])\n",
        "\n",
        "print(second_block.block_data)\n",
        "print(second_block.block_hash)\n",
        "\n",
        "third_block = AkashCoinBlock(second_block.block_hash, [t5, t6])\n",
        "\n",
        "print(third_block.block_data)\n",
        "print(third_block.block_hash)"
      ],
      "execution_count": 17,
      "outputs": [
        {
          "output_type": "stream",
          "text": [
            "Akash sends 2 AC to Nikhil - Pravin sends 4.1 AC to  Nikhil - Initial String\n",
            "cad686d04d489d18fe5da3d1f0be712db80f6635116005bba3538723c1e08b83\n",
            "Nikhil sends 3.2 AC to Pravin - Reethik sends 0.3 AC to Akash - cad686d04d489d18fe5da3d1f0be712db80f6635116005bba3538723c1e08b83\n",
            "c8d4b738723302dd7f5c198fe3cd7f7d5ed936780f5053f2ec68bf5f692b6888\n",
            "Nikhil sends 1 AC to Vinayak - Nikhil sends 5.4 AC to Reethik - c8d4b738723302dd7f5c198fe3cd7f7d5ed936780f5053f2ec68bf5f692b6888\n",
            "0ff0a634165e2fd5e5adb64fd115dc853fa872ea0107ed1720cdffea7c005910\n"
          ],
          "name": "stdout"
        }
      ]
    },
    {
      "cell_type": "code",
      "metadata": {
        "colab": {
          "base_uri": "https://localhost:8080/"
        },
        "id": "LhiPioWre6O7",
        "outputId": "caaa6395-2409-4e7f-b5bf-18c47dc22ff3"
      },
      "source": [
        "'''Here the code is completely same this is just made to check the changes in hase\n",
        "even after making slight changes in transactions\n",
        "like if you compare the transactioons made here and the transactions made in the\n",
        "above code you'll find the differnce of only 0.1 AC but because of this the\n",
        "hash has been changed drastically.\n",
        "\n",
        "'''\n",
        "\n",
        "\n",
        "import hashlib\n",
        "\n",
        "class AkashCoinBlock:\n",
        "  def  __init__(self, previous_block_hash, transaction_list):\n",
        "    self.previous_block_hash = previous_block_hash\n",
        "    self.transaction_list = transaction_list\n",
        "\n",
        " #constructing a data string where we are concatenating the different strings also we are using a separator\n",
        "    self.block_data = \" - \".join(transaction_list) + \" - \" + previous_block_hash\n",
        "    self.block_hash = hashlib.sha256(self.block_data.encode()).hexdigest() #This is the way we ecalculate hash\n",
        "\n",
        "#some transactions\n",
        "t1 = \"Akash sends 2 AC to Nikhil\"\n",
        "t2 = \"Pravin sends 4.2 AC to  Nikhil\"\n",
        "t3 = \"Nikhil sends 3.2 AC to Pravin\"\n",
        "t4 = \"Reethik sends 0.3 AC to Akash\"\n",
        "t5 = \"Nikhil sends 1 AC to Vinayak\"\n",
        "t6 = \"Nikhil sends 5.4 AC to Reethik\"\n",
        "\n",
        "initial_block = AkashCoinBlock(\"Initial String\", [t1, t2])\n",
        "\n",
        "print(initial_block.block_data)\n",
        "print(initial_block.block_hash)\n",
        "\n",
        "second_block = AkashCoinBlock(initial_block.block_hash, [t3, t4])\n",
        "\n",
        "print(second_block.block_data)\n",
        "print(second_block.block_hash)\n",
        "\n",
        "third_block = AkashCoinBlock(second_block.block_hash, [t5, t6])\n",
        "\n",
        "print(third_block.block_data)\n",
        "print(third_block.block_hash)"
      ],
      "execution_count": 16,
      "outputs": [
        {
          "output_type": "stream",
          "text": [
            "Akash sends 2 AC to Nikhil - Pravin sends 4.2 AC to  Nikhil - Initial String\n",
            "42aa76a050039da43ec1ebd9ecb0ff124d8797d294b13aaab9903ee9aadef89b\n",
            "Nikhil sends 3.2 AC to Pravin - Reethik sends 0.3 AC to Akash - 42aa76a050039da43ec1ebd9ecb0ff124d8797d294b13aaab9903ee9aadef89b\n",
            "515bb8c7888c580fba6c2090a9ed8126ecbb58f27d0fdccd641fcc30c87438a8\n",
            "Nikhil sends 1 AC to Vinayak - Nikhil sends 5.4 AC to Reethik - 515bb8c7888c580fba6c2090a9ed8126ecbb58f27d0fdccd641fcc30c87438a8\n",
            "b69a924948d80e198bc6af465e247b421fe3794791d05445bf8fe319b9020b78\n"
          ],
          "name": "stdout"
        }
      ]
    },
    {
      "cell_type": "code",
      "metadata": {
        "id": "Hp2oLZ-We6Q4"
      },
      "source": [
        ""
      ],
      "execution_count": 12,
      "outputs": []
    },
    {
      "cell_type": "code",
      "metadata": {
        "id": "Q5FAdUtve6TD"
      },
      "source": [
        ""
      ],
      "execution_count": null,
      "outputs": []
    },
    {
      "cell_type": "code",
      "metadata": {
        "id": "J_8W85P5e6Up"
      },
      "source": [
        ""
      ],
      "execution_count": null,
      "outputs": []
    },
    {
      "cell_type": "code",
      "metadata": {
        "id": "fVxwD0cDe6YG"
      },
      "source": [
        ""
      ],
      "execution_count": null,
      "outputs": []
    }
  ]
}